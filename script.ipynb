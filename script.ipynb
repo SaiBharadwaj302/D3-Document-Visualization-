{
 "cells": [
  {
   "cell_type": "code",
   "execution_count": 2,
   "metadata": {},
   "outputs": [
    {
     "name": "stdout",
     "output_type": "stream",
     "text": [
      "File list has been written to filelist.json\n"
     ]
    }
   ],
   "source": [
    "import os\n",
    "import json\n",
    "\n",
    "def generate_file_list(directory, output_file):\n",
    "    # List to store file names\n",
    "    file_list = []\n",
    "\n",
    "    # Walk through the directory\n",
    "    for root, dirs, files in os.walk(directory):\n",
    "        for file in files:\n",
    "            file_list.append(file)\n",
    "\n",
    "    # Create a dictionary to store the file list\n",
    "    data = {\"files\": file_list}\n",
    "\n",
    "    # Write the file list to a JSON file\n",
    "    with open(output_file, 'w') as json_file:\n",
    "        json.dump(data, json_file, indent=4)\n",
    "\n",
    "if __name__ == \"__main__\":\n",
    "    # Directory containing the files\n",
    "    dataset_directory = 'dataset'\n",
    "\n",
    "    # Output JSON file\n",
    "    output_json_file = 'filelist.json'\n",
    "\n",
    "    # Generate the file list and write to JSON\n",
    "    generate_file_list(dataset_directory, output_json_file)\n",
    "\n",
    "    print(f\"File list has been written to {output_json_file}\")"
   ]
  }
 ],
 "metadata": {
  "kernelspec": {
   "display_name": "base",
   "language": "python",
   "name": "python3"
  },
  "language_info": {
   "codemirror_mode": {
    "name": "ipython",
    "version": 3
   },
   "file_extension": ".py",
   "mimetype": "text/x-python",
   "name": "python",
   "nbconvert_exporter": "python",
   "pygments_lexer": "ipython3",
   "version": "3.9.7"
  }
 },
 "nbformat": 4,
 "nbformat_minor": 2
}
